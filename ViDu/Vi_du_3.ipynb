{
  "nbformat": 4,
  "nbformat_minor": 0,
  "metadata": {
    "colab": {
      "name": "Vi du 3.ipynb",
      "provenance": [],
      "collapsed_sections": [],
      "include_colab_link": true
    },
    "kernelspec": {
      "name": "python3",
      "display_name": "Python 3"
    }
  },
  "cells": [
    {
      "cell_type": "markdown",
      "metadata": {
        "id": "view-in-github",
        "colab_type": "text"
      },
      "source": [
        "<a href=\"https://colab.research.google.com/github/ngohieu12/NgauNhien/blob/master/ViDu/Vi_du_3.ipynb\" target=\"_parent\"><img src=\"https://colab.research.google.com/assets/colab-badge.svg\" alt=\"Open In Colab\"/></a>"
      ]
    },
    {
      "cell_type": "code",
      "metadata": {
        "id": "ewhPTLBYjnsR",
        "colab_type": "code",
        "outputId": "2360bdea-48dd-427e-a5d7-df68627707f7",
        "colab": {
          "base_uri": "https://localhost:8080/",
          "height": 85
        }
      },
      "source": [
        "import numpy as np\n",
        "n=4;\n",
        "\n",
        "m=2;n=4;alpha=0.95;\n",
        "\n",
        "I=np.eye(n);\n",
        "A=np.eye(n+1)\n",
        "A[n][0]=1\n",
        "A[n][n]=0\n",
        "for i in range(n):\n",
        "    A[i][n]=1\n",
        "    \n",
        "\n",
        "I=np.eye(n);\n",
        "\n",
        "p0=np.array([\n",
        "              [0.1, 0.3, 0.6, 0.0],\n",
        "              [0.0, 0.2, 0.5, 0.3],\n",
        "              [0.1, 0.1, 0.2, 0.7],\n",
        "              [0.8, 0.1, 0.0, 0.1]\n",
        "            ])\n",
        "p1=np.array([\n",
        "              [0.6, 0.3, 0.1, 0.0],\n",
        "              [0.75, 0.1, 0.1, 0.05],\n",
        "              [0.8, 0.2, 0.0, 0.0],\n",
        "              [0.9, 0.1, 0.0, 0.0]\n",
        "            ])\n",
        "p=[p0,p1]\n",
        "\n",
        "\n",
        "f0=np.array([100,125,150,500])\n",
        "f1=np.array([300, 325, 350, 600])\n",
        "f=[f0,f1]\n",
        "\n",
        "w=f[0]\n",
        "a=np.zeros(n, dtype=np.int64)\n",
        "g=np.zeros(n+1)\n",
        "v=np.zeros(n+1)\n",
        "h=np.zeros(n)\n",
        "\n",
        "\n",
        "for i in range(n):\n",
        "              for j in range(m):\n",
        "                  if f[j][i]<w[i]:\n",
        "                        w[i]=f[j][i]\n",
        "                        a[i]=j\n",
        "\n",
        "delta=100; epsilon=0.5\n",
        "\n",
        "while (delta>epsilon):\n",
        "\n",
        "           print(a) \n",
        "     \n",
        "           for i in range(n):\n",
        "               g[i]=f[a[i]][i]\n",
        "           g[n]=0\n",
        "         \n",
        "          \n",
        "           \n",
        "           q=np.zeros((n+1,n+1))\n",
        "           for i in range(n):\n",
        "               for j in range(n):\n",
        "                   q[i][j]=p[a[i]][i][j]\n",
        "           for i in range(n):\n",
        "               q[i][n]=q[n][i]=0\n",
        "        \n",
        "           v=np.linalg.inv(A-q).dot(g)  \n",
        "           print(v) \n",
        "          \n",
        "           \n",
        "           for i in range(n):\n",
        "               h[i]=v[i]\n",
        "           \n",
        "           \n",
        "           k=np.zeros((m,n))\n",
        "           for i in range(m):\n",
        "                k[i]=f[i]+p[i].dot(h)\n",
        "           w=k[0]\n",
        "           \n",
        "          \n",
        "           b=np.zeros(n, dtype=np.int64)\n",
        "           for i in range(n):\n",
        "                 for j in range(m):\n",
        "                     if k[j][i]<w[i]:\n",
        "                         w[i]=k[j][i]\n",
        "                         b[i]=j\n",
        "            \n",
        "           delta=max(abs(a-b))\n",
        "           a=b\n",
        "           \n",
        "          \n",
        "\n",
        "\n",
        "\n",
        "\n",
        "\n",
        "    \n",
        "\n"
      ],
      "execution_count": 0,
      "outputs": [
        {
          "output_type": "stream",
          "text": [
            "[0 0 0 0]\n",
            "[  0.          90.39699571 176.23390558 306.86695279 232.85944206]\n",
            "[0 0 1 0]\n",
            "[  0.          97.09618875 150.1814882  322.74652148 219.23774955]\n"
          ],
          "name": "stdout"
        }
      ]
    }
  ]
}