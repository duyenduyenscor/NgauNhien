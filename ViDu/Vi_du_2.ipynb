{
  "nbformat": 4,
  "nbformat_minor": 0,
  "metadata": {
    "colab": {
      "name": "Vi du 2.ipynb",
      "provenance": [],
      "collapsed_sections": [],
      "include_colab_link": true
    },
    "kernelspec": {
      "name": "python3",
      "display_name": "Python 3"
    }
  },
  "cells": [
    {
      "cell_type": "markdown",
      "metadata": {
        "id": "view-in-github",
        "colab_type": "text"
      },
      "source": [
        "<a href=\"https://colab.research.google.com/github/ngohieu12/NgauNhien/blob/master/ViDu/Vi_du_2.ipynb\" target=\"_parent\"><img src=\"https://colab.research.google.com/assets/colab-badge.svg\" alt=\"Open In Colab\"/></a>"
      ]
    },
    {
      "cell_type": "code",
      "metadata": {
        "id": "CGpothddi_Ps",
        "colab_type": "code",
        "outputId": "0cacc398-c10c-4fd0-c535-3cf2a876f0f0",
        "colab": {
          "base_uri": "https://localhost:8080/",
          "height": 119
        }
      },
      "source": [
        "import numpy as np\n",
        "\n",
        "m=2;n=4;alpha=0.95;\n",
        "\n",
        "I=np.eye(n);\n",
        "\n",
        "p0=np.array([\n",
        "              [0.1, 0.3, 0.6, 0.0],\n",
        "              [0.0, 0.2, 0.5, 0.3],\n",
        "              [0.1, 0.1, 0.2, 0.7],\n",
        "              [0.8, 0.1, 0.0, 0.1]\n",
        "            ])\n",
        "p1=np.array([\n",
        "              [0.6, 0.3, 0.1, 0.0],\n",
        "              [0.75, 0.1, 0.1, 0.05],\n",
        "              [0.8, 0.2, 0.0, 0.0],\n",
        "              [0.9, 0.1, 0.0, 0.0]\n",
        "            ])\n",
        "p=[p0,p1]\n",
        "\n",
        "\n",
        "f0=np.array([100,125,150,500])\n",
        "f1=np.array([300, 325, 350, 600])\n",
        "f=[f0,f1]\n",
        "\n",
        "w=f[0]\n",
        "a=np.zeros(n, dtype=np.int64)\n",
        "g=np.zeros(n)\n",
        "\n",
        "for i in range(n):\n",
        "              for j in range(m):\n",
        "                  if f[j][i]<w[i]:\n",
        "                        w[i]=f[j][i]\n",
        "                        a[i]=j\n",
        "\n",
        "delta=100; epsilon=0.5\n",
        "\n",
        "while (delta>epsilon):\n",
        "\n",
        "           print(\"a=\",a+1) \n",
        "     \n",
        "           for i in range(n):\n",
        "               g[i]=f[a[i]][i]\n",
        "          \n",
        "          \n",
        "           \n",
        "           q=np.zeros((n,n))\n",
        "           for i in range(n):\n",
        "               q[i]=p[a[i]][i]\n",
        "           \n",
        "    \n",
        "\n",
        "           v=np.linalg.inv(I-alpha*q).dot(g)\n",
        "           print(\"v=\",v)\n",
        "\n",
        "           k=np.zeros((m,n))\n",
        "           for i in range(m):\n",
        "                k[i]=f[i]+alpha*p[i].dot(v)\n",
        "           w=k[0]\n",
        "           \n",
        "           b=np.zeros(n, dtype=np.int64)\n",
        "           for i in range(n):\n",
        "                 for j in range(m):\n",
        "                     if k[j][i]<w[i]:\n",
        "                         w[i]=k[j][i]\n",
        "                         b[i]=j\n",
        "            \n",
        "           delta=max(abs(a-b))\n",
        "           a=b\n",
        "            \n",
        "\n",
        "\n",
        "\n",
        "\n",
        "\n",
        "    \n",
        "\n",
        "\n"
      ],
      "execution_count": 1,
      "outputs": [
        {
          "output_type": "stream",
          "text": [
            "a= [1 1 1 1]\n",
            "v= [10108.12317197 10064.617934   10841.11466568 10097.58266787]\n",
            "a= [2 2 2 1]\n",
            "v= [6249.50593927 6278.90851368 6292.61713145 6459.80201397]\n",
            "a= [1 1 2 1]\n",
            "v= [4287.40288177 4381.63406971 4440.93666339 4612.90765388]\n"
          ],
          "name": "stdout"
        }
      ]
    }
  ]
}